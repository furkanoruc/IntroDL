{
 "cells": [
  {
   "cell_type": "code",
   "execution_count": 3,
   "metadata": {},
   "outputs": [],
   "source": [
    "import random\n",
    "import pandas as pd\n",
    "import math\n",
    "import numpy as np\n",
    "from data_process import get_CIFAR10_data\n",
    "%matplotlib inline\n",
    "from save_submission import output_submission_csv\n",
    "import time"
   ]
  },
  {
   "cell_type": "markdown",
   "metadata": {},
   "source": [
    "# Loading CIFAR-10"
   ]
  },
  {
   "cell_type": "markdown",
   "metadata": {},
   "source": [
    "In the following cells we determine the number of images for each split and load the images.\n",
    "<br /> \n",
    "TRAIN_IMAGES + VAL_IMAGES = (0, 50000]\n",
    ", TEST_IMAGES = 10000"
   ]
  },
  {
   "cell_type": "code",
   "execution_count": 4,
   "metadata": {},
   "outputs": [],
   "source": [
    "# You can change these numbers for experimentation\n",
    "# For submission we will use the default values \n",
    "TRAIN_IMAGES = 40000 #40000\n",
    "VAL_IMAGES = 10000 #10000"
   ]
  },
  {
   "cell_type": "code",
   "execution_count": 5,
   "metadata": {},
   "outputs": [],
   "source": [
    "data = get_CIFAR10_data(TRAIN_IMAGES, VAL_IMAGES)\n",
    "X_train_CIFAR, y_train_CIFAR = data['X_train'], data['y_train']\n",
    "X_val_CIFAR, y_val_CIFAR = data['X_val'], data['y_val']\n",
    "X_test_CIFAR, y_test_CIFAR = data['X_test'], data['y_test']\n",
    "n_class_CIFAR = len(np.unique(y_test_CIFAR))"
   ]
  },
  {
   "cell_type": "markdown",
   "metadata": {},
   "source": [
    "Convert the sets of images from dimensions of **(N, 3, 32, 32) -> (N, 3072)** where N is the number of images so that each **3x32x32** image is represented by a single vector."
   ]
  },
  {
   "cell_type": "code",
   "execution_count": 6,
   "metadata": {},
   "outputs": [],
   "source": [
    "X_train_CIFAR = np.reshape(X_train_CIFAR, (X_train_CIFAR.shape[0], -1))\n",
    "X_val_CIFAR = np.reshape(X_val_CIFAR, (X_val_CIFAR.shape[0], -1))\n",
    "X_test_CIFAR = np.reshape(X_test_CIFAR, (X_test_CIFAR.shape[0], -1))"
   ]
  },
  {
   "cell_type": "markdown",
   "metadata": {},
   "source": [
    "# Get Accuracy\n",
    "This function computes how well your model performs using accuracy as a metric.\n"
   ]
  },
  {
   "cell_type": "code",
   "execution_count": 7,
   "metadata": {},
   "outputs": [],
   "source": [
    "def get_acc(pred, y_test):\n",
    "    return np.sum(y_test==pred)/len(y_test)*100"
   ]
  },
  {
   "cell_type": "markdown",
   "metadata": {},
   "source": [
    "# Perceptron"
   ]
  },
  {
   "cell_type": "markdown",
   "metadata": {},
   "source": [
    "Perceptron has 2 hyperparameters that you can experiment with:\n",
    "- **Learning rate** - controls how much we change the current weights of the classifier during each update. We set it at a default value of 0.5, but you should experiment with different values. We recommend changing the learning rate by factors of 10 and observing how the performance of the classifier changes. You should also try adding a **decay** which slowly reduces the learning rate over each epoch.\n",
    "- **Number of Epochs** - An epoch is a complete iterative pass over all of the data in the dataset. During an epoch we predict a label using the classifier and then update the weights of the classifier according the perceptron update rule for each sample in the training set. You should try different values for the number of training epochs and report your results."
   ]
  },
  {
   "cell_type": "markdown",
   "metadata": {},
   "source": [
    "\n",
    "The following code: \n",
    "- Creates an instance of the Perceptron classifier class \n",
    "- The train function of the Perceptron class is trained on the training data\n",
    "- We use the predict function to find the training accuracy as well as the testing accuracy\n"
   ]
  },
  {
   "cell_type": "markdown",
   "metadata": {},
   "source": [
    "# Model Perceptron"
   ]
  },
  {
   "cell_type": "code",
   "execution_count": 29,
   "metadata": {},
   "outputs": [],
   "source": [
    "import numpy as np\n",
    "\n",
    "\n",
    "class Perceptron:\n",
    "    def __init__(self, n_class: int, lr: float, epochs: int):\n",
    "\n",
    "        self.w = np.random.randn(10, 3073)\n",
    "        self.accuracy_train_accumulated = []\n",
    "        self.accuracy_val_accumulated = []\n",
    "        self.lr = lr\n",
    "        self.epochs = epochs\n",
    "        self.n_class = n_class\n",
    "\n",
    "    def train(self, X_train: np.ndarray, y_train: np.ndarray, X_val: np.ndarray, y_val: np.ndarray):\n",
    "\n",
    "        N, D = X_train.shape\n",
    "        X_train = np.hstack((np.ones((N,1)), X_train))\n",
    "        N, D = X_train.shape\n",
    "        N_val, D_val = X_val.shape\n",
    "        X_val = np.hstack((np.ones((N_val,1)), X_val))\n",
    "        N_val, D_val = X_val.shape\n",
    "        self.w = np.random.randn(self.n_class, D)\n",
    "        y_pred_train = np.zeros(N)\n",
    "        y_pred_val = np.zeros(N_val)\n",
    "\n",
    "        ###### YOUR CODE STARTS HERE ######\n",
    "        \n",
    "        \n",
    "        for ep in range(self.epochs):\n",
    "            start = time.time()\n",
    "            for t in range(N):\n",
    "                y_i = np.argmax(np.dot(self.w, X_train[t]))\n",
    "                current_class = y_train[t]\n",
    "                \n",
    "                if y_i != current_class:\n",
    "                    self.w[current_class] += self.lr*X_train[t]\n",
    "                    self.w[y_i] = self.w[y_i] - self.lr*X_train[t]\n",
    "            \n",
    "            for t in range(N):\n",
    "                y_pred_train[t] = np.argmax(np.dot(self.w, X_train[t]))\n",
    "            \n",
    "            for t in range(N_val):\n",
    "                y_pred_val[t] = np.argmax(np.dot(self.w, X_val[t]))  \n",
    "                \n",
    "                    \n",
    "            accuracy_train = (sum(y_train == y_pred_train))/X_train.shape[0]\n",
    "            self.accuracy_train_accumulated.append(accuracy_train)\n",
    "            \n",
    "            accuracy_val = (sum(y_val == y_pred_val))/X_val.shape[0]\n",
    "            self.accuracy_val_accumulated.append(accuracy_val)\n",
    "            \n",
    "            stop = time.time()\n",
    "            print(f'for Epoch {ep}, Training Accuracy: {accuracy_train:.3f}, Time per Epoch: {(stop-start):.2f} seconds')\n",
    "        \n",
    "        ###### YOUR CODE ENDS HERE ######\n",
    "        return self.accuracy_train_accumulated, self.accuracy_val_accumulated\n",
    "\n",
    "    def predict(self, X_test: np.ndarray) -> np.ndarray:\n",
    "\n",
    "        N, D = X_test.shape\n",
    "        X_test = np.hstack((np.ones((N,1)), X_test))\n",
    "        N, D = X_test.shape\n",
    "        y_test = np.zeros(N)\n",
    "        ###### YOUR CODE STARTS HERE ######\n",
    "        \n",
    "        for t in range(N):\n",
    "            y_test[t] = np.argmax(np.dot(self.w, X_test[t]))\n",
    "            \n",
    "        ###### YOUR CODE ENDS HERE ######\n",
    "        return y_test\n",
    "    "
   ]
  },
  {
   "cell_type": "markdown",
   "metadata": {},
   "source": [
    "## Train Perceptron on CIFAR"
   ]
  },
  {
   "cell_type": "code",
   "execution_count": 31,
   "metadata": {},
   "outputs": [
    {
     "name": "stdout",
     "output_type": "stream",
     "text": [
      "for Epoch 0, Training Accuracy: 0.277, Time per Epoch: 4.69 seconds\n",
      "for Epoch 1, Training Accuracy: 0.310, Time per Epoch: 2.56 seconds\n",
      "for Epoch 2, Training Accuracy: 0.298, Time per Epoch: 2.87 seconds\n",
      "for Epoch 3, Training Accuracy: 0.286, Time per Epoch: 2.43 seconds\n",
      "for Epoch 4, Training Accuracy: 0.301, Time per Epoch: 2.66 seconds\n",
      "for Epoch 5, Training Accuracy: 0.313, Time per Epoch: 2.51 seconds\n",
      "for Epoch 6, Training Accuracy: 0.325, Time per Epoch: 3.06 seconds\n",
      "for Epoch 7, Training Accuracy: 0.321, Time per Epoch: 2.54 seconds\n",
      "for Epoch 8, Training Accuracy: 0.309, Time per Epoch: 2.16 seconds\n",
      "for Epoch 9, Training Accuracy: 0.316, Time per Epoch: 2.62 seconds\n",
      "for Epoch 10, Training Accuracy: 0.325, Time per Epoch: 7.89 seconds\n",
      "for Epoch 11, Training Accuracy: 0.299, Time per Epoch: 2.70 seconds\n",
      "for Epoch 12, Training Accuracy: 0.321, Time per Epoch: 4.09 seconds\n",
      "for Epoch 13, Training Accuracy: 0.336, Time per Epoch: 4.52 seconds\n",
      "for Epoch 14, Training Accuracy: 0.325, Time per Epoch: 8.33 seconds\n",
      "for Epoch 15, Training Accuracy: 0.318, Time per Epoch: 4.02 seconds\n",
      "for Epoch 16, Training Accuracy: 0.326, Time per Epoch: 2.48 seconds\n",
      "for Epoch 17, Training Accuracy: 0.335, Time per Epoch: 3.42 seconds\n",
      "for Epoch 18, Training Accuracy: 0.325, Time per Epoch: 3.31 seconds\n",
      "for Epoch 19, Training Accuracy: 0.315, Time per Epoch: 2.79 seconds\n",
      "for Epoch 20, Training Accuracy: 0.327, Time per Epoch: 3.71 seconds\n",
      "for Epoch 21, Training Accuracy: 0.309, Time per Epoch: 3.90 seconds\n",
      "for Epoch 22, Training Accuracy: 0.321, Time per Epoch: 2.57 seconds\n",
      "for Epoch 23, Training Accuracy: 0.333, Time per Epoch: 2.12 seconds\n",
      "for Epoch 24, Training Accuracy: 0.324, Time per Epoch: 2.32 seconds\n",
      "for Epoch 25, Training Accuracy: 0.313, Time per Epoch: 2.19 seconds\n",
      "for Epoch 26, Training Accuracy: 0.323, Time per Epoch: 3.60 seconds\n",
      "for Epoch 27, Training Accuracy: 0.336, Time per Epoch: 4.16 seconds\n",
      "for Epoch 28, Training Accuracy: 0.317, Time per Epoch: 2.78 seconds\n",
      "for Epoch 29, Training Accuracy: 0.329, Time per Epoch: 2.27 seconds\n"
     ]
    }
   ],
   "source": [
    "lr = 0.5\n",
    "n_epochs = 30\n",
    "n_class_CIFAR = 10\n",
    "\n",
    "percept_CIFAR = Perceptron(n_class_CIFAR, lr, n_epochs)\n",
    "accumulated_train_pred, accumulated_val_pred = percept_CIFAR.train(X_train_CIFAR, y_train_CIFAR, X_val_CIFAR, y_val_CIFAR)"
   ]
  },
  {
   "cell_type": "code",
   "execution_count": 122,
   "metadata": {},
   "outputs": [
    {
     "data": {
      "text/plain": [
       "[0.27735,\n",
       " 0.3098,\n",
       " 0.298,\n",
       " 0.28625,\n",
       " 0.3015,\n",
       " 0.312525,\n",
       " 0.325075,\n",
       " 0.321225,\n",
       " 0.309,\n",
       " 0.31585,\n",
       " 0.3247,\n",
       " 0.2987,\n",
       " 0.321325,\n",
       " 0.336375,\n",
       " 0.324525,\n",
       " 0.317925,\n",
       " 0.326475,\n",
       " 0.33525,\n",
       " 0.3252,\n",
       " 0.31465,\n",
       " 0.326625,\n",
       " 0.308625,\n",
       " 0.32055,\n",
       " 0.333475,\n",
       " 0.324225,\n",
       " 0.312975,\n",
       " 0.32305,\n",
       " 0.33615,\n",
       " 0.317125,\n",
       " 0.328675]"
      ]
     },
     "execution_count": 122,
     "metadata": {},
     "output_type": "execute_result"
    }
   ],
   "source": [
    "accumulated_train_pred"
   ]
  },
  {
   "cell_type": "code",
   "execution_count": 123,
   "metadata": {},
   "outputs": [
    {
     "data": {
      "text/plain": [
       "[0.257,\n",
       " 0.2853,\n",
       " 0.2699,\n",
       " 0.254,\n",
       " 0.2594,\n",
       " 0.2773,\n",
       " 0.2851,\n",
       " 0.2723,\n",
       " 0.2722,\n",
       " 0.2736,\n",
       " 0.2791,\n",
       " 0.2571,\n",
       " 0.2707,\n",
       " 0.2878,\n",
       " 0.2818,\n",
       " 0.2766,\n",
       " 0.2743,\n",
       " 0.2892,\n",
       " 0.2713,\n",
       " 0.2647,\n",
       " 0.2813,\n",
       " 0.2546,\n",
       " 0.2688,\n",
       " 0.2728,\n",
       " 0.2716,\n",
       " 0.2659,\n",
       " 0.2733,\n",
       " 0.2761,\n",
       " 0.2623,\n",
       " 0.2684]"
      ]
     },
     "execution_count": 123,
     "metadata": {},
     "output_type": "execute_result"
    }
   ],
   "source": [
    "accumulated_val_pred"
   ]
  },
  {
   "cell_type": "code",
   "execution_count": 634,
   "metadata": {},
   "outputs": [
    {
     "name": "stdout",
     "output_type": "stream",
     "text": [
      "The training accuracy is given by: 30.655000\n"
     ]
    }
   ],
   "source": [
    "pred_percept = percept_CIFAR.predict(X_train_CIFAR)\n",
    "print('The training accuracy is given by: %f' % (get_acc(pred_percept, y_train_CIFAR)))"
   ]
  },
  {
   "cell_type": "markdown",
   "metadata": {},
   "source": [
    "### Validate Perceptron on CIFAR"
   ]
  },
  {
   "cell_type": "code",
   "execution_count": 624,
   "metadata": {},
   "outputs": [
    {
     "name": "stdout",
     "output_type": "stream",
     "text": [
      "The validation accuracy is given by: 26.280000\n"
     ]
    }
   ],
   "source": [
    "pred_percept = percept_CIFAR.predict(X_val_CIFAR)\n",
    "print('The validation accuracy is given by: %f' % (get_acc(pred_percept, y_val_CIFAR)))"
   ]
  },
  {
   "cell_type": "markdown",
   "metadata": {},
   "source": [
    "### Test Perceptron on CIFAR"
   ]
  },
  {
   "cell_type": "code",
   "execution_count": 111,
   "metadata": {},
   "outputs": [
    {
     "name": "stdout",
     "output_type": "stream",
     "text": [
      "The testing accuracy is given by: 26.850000\n"
     ]
    }
   ],
   "source": [
    "pred_percept = percept_CIFAR.predict(X_test_CIFAR)\n",
    "print('The testing accuracy is given by: %f' % (get_acc(pred_percept, y_test_CIFAR)))"
   ]
  },
  {
   "cell_type": "code",
   "execution_count": 113,
   "metadata": {},
   "outputs": [],
   "source": [
    "output_submission_csv('output/M_Furkan_Oruc_Perceptron_submission_CIFAR.csv', percept_CIFAR.predict(X_test_CIFAR))"
   ]
  },
  {
   "cell_type": "markdown",
   "metadata": {},
   "source": [
    "# Logistic Classifier"
   ]
  },
  {
   "cell_type": "markdown",
   "metadata": {},
   "source": [
    "The Logistic Classifier has 2 hyperparameters that you can experiment with:\n",
    "- **Learning rate** - similar to as defined above in Perceptron, this parameter scales by how much the weights are changed according to the calculated gradient update. \n",
    "- **Number of Epochs** - As described for perceptron.\n",
    "\n"
   ]
  },
  {
   "cell_type": "markdown",
   "metadata": {},
   "source": [
    "\n",
    "The following code: \n",
    "- Creates an instance of the Logistic classifier class \n",
    "- The train function of the Logistic class is trained on the training data\n",
    "- We use the predict function to find the training accuracy as well as the testing accuracy"
   ]
  },
  {
   "cell_type": "code",
   "execution_count": 98,
   "metadata": {
    "tags": []
   },
   "outputs": [],
   "source": [
    "\"\"\"Logistic regression model.\"\"\"\n",
    "\n",
    "import numpy as np\n",
    "import math\n",
    "\n",
    "\n",
    "class Logistic:\n",
    "    def __init__(self, lr: float, epochs: int):\n",
    "\n",
    "        self.w = np.random.randn(10, 3072)\n",
    "        self.b = np.random.uniform(-0.0001, 0.0001, (1,10))\n",
    "        self.lr = lr\n",
    "        self.epochs = epochs\n",
    "        self.accuracy_train_accumulated = []\n",
    "        self.accuracy_val_accumulated = []\n",
    "        #self.threshold = ###### TODO: change this\n",
    "\n",
    "    def softmax(self, z: np.ndarray) -> np.ndarray:\n",
    "\n",
    "        ##### YOUR CODE STARTS HERE #####\n",
    "        soft_max = np.exp(z)/(np.exp(z).sum())\n",
    "        \n",
    "        ##### YOUR CODE ENDS HERE #####\n",
    "        return soft_max\n",
    "\n",
    "    def train(self, X_train: np.ndarray, y_train: np.ndarray, X_val: np.ndarray, y_val: np.ndarray):\n",
    "\n",
    "        N, D = X_train.shape\n",
    "        N_val, D_val = X_val.shape\n",
    "        #self.w = np.random.randn(10, D)\n",
    "        o = np.random.randn(1, 10)\n",
    "        y = np.empty_like(self.w)\n",
    "        r_train_kronecker = pd.get_dummies(y_train).to_numpy()\n",
    "        classes_train = np.zeros(N)\n",
    "        y_pred_val = np.zeros(N_val)\n",
    "\n",
    "        ##### YOUR CODE STARTS HERE #####\n",
    "        \n",
    "        for ep in range(self.epochs):\n",
    "            start = time.time()\n",
    "            delta_w = np.zeros_like(self.w)\n",
    "            delta_b = np.zeros_like(o)\n",
    "            \n",
    "            for t in range(N):\n",
    "                o = (self.w@X_train[t,:]) + self.b\n",
    "            \n",
    "                o = o.reshape(1,10)\n",
    "                o -= np.max(o)\n",
    "                y = self.softmax(o)\n",
    "            \n",
    "                delta_w = delta_w + ((r_train_kronecker[t,:].reshape(1,10)-y)).T@X_train[t,:].reshape(1,D)\n",
    "                delta_b[0,:] = delta_b[0,:] + ((r_train_kronecker[t,:].reshape(1,10)-y))\n",
    "                \n",
    "                classes_train[t] = np.argmax(y, axis = 1)\n",
    "                \n",
    "\n",
    "                self.w = self.w + self.lr*delta_w\n",
    "                self.b = self.b + self.lr*delta_b\n",
    "        \n",
    "            classes = np.argmax(y, axis = 1)\n",
    "                \n",
    "            accuracy_train = (sum(y_train == classes_train))/X_train.shape[0]\n",
    "            self.accuracy_train_accumulated.append(accuracy_train)\n",
    "            \n",
    "            for t in range(N_val):\n",
    "                o = (self.w@X_val[t,:]) + self.b\n",
    "                o = o.reshape(1,10)\n",
    "                y = self.softmax(o)\n",
    "                y_pred_val[t] = np.argmax(y,axis=1)\n",
    "\n",
    "            \n",
    "            accuracy_val = (sum(y_val == y_pred_val))/X_val.shape[0]\n",
    "            self.accuracy_val_accumulated.append(accuracy_val)\n",
    "\n",
    "            stop = time.time()\n",
    "            print(f'for Epoch {ep}, Training Accuracy: {accuracy_train:.3f}, Time per Epoch: {(stop-start):.2f} seconds')\n",
    "\n",
    "        ##### YOUR CODE ENDS HERE #####\n",
    "        return self.accuracy_train_accumulated, self.accuracy_val_accumulated\n",
    "\n",
    "    def predict(self, X_test: np.ndarray) -> np.ndarray:\n",
    "\n",
    "        N, D = X_test.shape\n",
    "        y_test = np.zeros((1,N))\n",
    "        classes_test = np.zeros((1,N))\n",
    "        ##### YOUR CODE STARTS HERE #####\n",
    "        \n",
    "        for t in range(N):\n",
    "            o = (self.w@X_test[t,:]) + self.b\n",
    "            \n",
    "            o = o.reshape(1,10)\n",
    "            o -= np.max(o)\n",
    "            y = self.softmax(o)\n",
    "            classes_test[0,t] = np.argmax(y,axis=1)\n",
    "            \n",
    "        #accuracy = get_acc(classes_test, y_test)\n",
    "        \n",
    "        ##### YOUR CODE ENDS HERE #####\n",
    "        return classes_test"
   ]
  },
  {
   "cell_type": "markdown",
   "metadata": {},
   "source": [
    "### Training Logistic Classifer"
   ]
  },
  {
   "cell_type": "code",
   "execution_count": 116,
   "metadata": {},
   "outputs": [
    {
     "name": "stderr",
     "output_type": "stream",
     "text": [
      "/Users/furkanoruc/opt/anaconda3/envs/introDL/lib/python3.7/site-packages/ipykernel_launcher.py:21: RuntimeWarning: overflow encountered in exp\n",
      "/Users/furkanoruc/opt/anaconda3/envs/introDL/lib/python3.7/site-packages/ipykernel_launcher.py:21: RuntimeWarning: invalid value encountered in true_divide\n"
     ]
    },
    {
     "name": "stdout",
     "output_type": "stream",
     "text": [
      "for Epoch 0, Training Accuracy: 0.259, Time per Epoch: 15.71 seconds\n",
      "for Epoch 1, Training Accuracy: 0.274, Time per Epoch: 12.38 seconds\n",
      "for Epoch 2, Training Accuracy: 0.275, Time per Epoch: 17.00 seconds\n",
      "for Epoch 3, Training Accuracy: 0.285, Time per Epoch: 26.74 seconds\n",
      "for Epoch 4, Training Accuracy: 0.288, Time per Epoch: 20.78 seconds\n",
      "for Epoch 5, Training Accuracy: 0.286, Time per Epoch: 16.12 seconds\n",
      "for Epoch 6, Training Accuracy: 0.283, Time per Epoch: 15.93 seconds\n",
      "for Epoch 7, Training Accuracy: 0.287, Time per Epoch: 17.00 seconds\n",
      "for Epoch 8, Training Accuracy: 0.296, Time per Epoch: 21.66 seconds\n",
      "for Epoch 9, Training Accuracy: 0.296, Time per Epoch: 13.45 seconds\n",
      "for Epoch 10, Training Accuracy: 0.290, Time per Epoch: 13.74 seconds\n",
      "for Epoch 11, Training Accuracy: 0.302, Time per Epoch: 13.34 seconds\n",
      "for Epoch 12, Training Accuracy: 0.296, Time per Epoch: 13.85 seconds\n",
      "for Epoch 13, Training Accuracy: 0.292, Time per Epoch: 13.17 seconds\n",
      "for Epoch 14, Training Accuracy: 0.292, Time per Epoch: 14.04 seconds\n",
      "for Epoch 15, Training Accuracy: 0.293, Time per Epoch: 13.89 seconds\n",
      "for Epoch 16, Training Accuracy: 0.288, Time per Epoch: 13.32 seconds\n",
      "for Epoch 17, Training Accuracy: 0.296, Time per Epoch: 11.78 seconds\n",
      "for Epoch 18, Training Accuracy: 0.293, Time per Epoch: 13.70 seconds\n",
      "for Epoch 19, Training Accuracy: 0.301, Time per Epoch: 14.80 seconds\n"
     ]
    }
   ],
   "source": [
    "learning_rate = 0.75\n",
    "n_epochs = 20\n",
    "#0.01\n",
    "#10\n",
    "\n",
    "lr = Logistic(learning_rate, n_epochs)\n",
    "accumulated_train_pred_lr, accumulated_val_pred_lr = lr.train(X_train_CIFAR, y_train_CIFAR, X_val_CIFAR, y_val_CIFAR)"
   ]
  },
  {
   "cell_type": "code",
   "execution_count": 124,
   "metadata": {},
   "outputs": [
    {
     "name": "stderr",
     "output_type": "stream",
     "text": [
      "/Users/furkanoruc/opt/anaconda3/envs/introDL/lib/python3.7/site-packages/ipykernel_launcher.py:21: RuntimeWarning: overflow encountered in exp\n",
      "/Users/furkanoruc/opt/anaconda3/envs/introDL/lib/python3.7/site-packages/ipykernel_launcher.py:21: RuntimeWarning: invalid value encountered in true_divide\n"
     ]
    },
    {
     "name": "stdout",
     "output_type": "stream",
     "text": [
      "for Epoch 0, Training Accuracy: 0.259, Time per Epoch: 13.91 seconds\n",
      "for Epoch 1, Training Accuracy: 0.274, Time per Epoch: 13.56 seconds\n",
      "for Epoch 2, Training Accuracy: 0.275, Time per Epoch: 14.76 seconds\n",
      "for Epoch 3, Training Accuracy: 0.285, Time per Epoch: 13.52 seconds\n",
      "for Epoch 4, Training Accuracy: 0.288, Time per Epoch: 12.97 seconds\n"
     ]
    }
   ],
   "source": [
    "learning_rate = 2\n",
    "n_epochs = 5\n",
    "#0.01\n",
    "#10\n",
    "\n",
    "lr = Logistic(learning_rate, n_epochs)\n",
    "accumulated_train_pred_lr, accumulated_val_pred_lr = lr.train(X_train_CIFAR, y_train_CIFAR, X_val_CIFAR, y_val_CIFAR)"
   ]
  },
  {
   "cell_type": "code",
   "execution_count": 117,
   "metadata": {},
   "outputs": [
    {
     "data": {
      "text/plain": [
       "[0.259475,\n",
       " 0.273575,\n",
       " 0.27475,\n",
       " 0.284525,\n",
       " 0.287525,\n",
       " 0.285675,\n",
       " 0.2829,\n",
       " 0.2866,\n",
       " 0.295975,\n",
       " 0.295825,\n",
       " 0.290275,\n",
       " 0.3022,\n",
       " 0.296175,\n",
       " 0.2924,\n",
       " 0.29235,\n",
       " 0.293,\n",
       " 0.28825,\n",
       " 0.2956,\n",
       " 0.2926,\n",
       " 0.30065]"
      ]
     },
     "execution_count": 117,
     "metadata": {},
     "output_type": "execute_result"
    }
   ],
   "source": [
    "accumulated_train_pred_lr"
   ]
  },
  {
   "cell_type": "code",
   "execution_count": 118,
   "metadata": {},
   "outputs": [
    {
     "data": {
      "text/plain": [
       "[0.1679,\n",
       " 0.1544,\n",
       " 0.1805,\n",
       " 0.1599,\n",
       " 0.1604,\n",
       " 0.1585,\n",
       " 0.1332,\n",
       " 0.1545,\n",
       " 0.1628,\n",
       " 0.1491,\n",
       " 0.1592,\n",
       " 0.1534,\n",
       " 0.1608,\n",
       " 0.1711,\n",
       " 0.1655,\n",
       " 0.1619,\n",
       " 0.169,\n",
       " 0.1609,\n",
       " 0.1618,\n",
       " 0.1437]"
      ]
     },
     "execution_count": 118,
     "metadata": {},
     "output_type": "execute_result"
    }
   ],
   "source": [
    "accumulated_val_pred_lr"
   ]
  },
  {
   "cell_type": "code",
   "execution_count": 125,
   "metadata": {},
   "outputs": [
    {
     "name": "stderr",
     "output_type": "stream",
     "text": [
      "/Users/furkanoruc/opt/anaconda3/envs/introDL/lib/python3.7/site-packages/ipykernel_launcher.py:21: RuntimeWarning: overflow encountered in exp\n",
      "/Users/furkanoruc/opt/anaconda3/envs/introDL/lib/python3.7/site-packages/ipykernel_launcher.py:21: RuntimeWarning: invalid value encountered in true_divide\n"
     ]
    },
    {
     "name": "stdout",
     "output_type": "stream",
     "text": [
      "The training accuracy is given by: 16.197500\n"
     ]
    }
   ],
   "source": [
    "pred_lr = lr.predict(X_train_CIFAR)\n",
    "print('The training accuracy is given by: %f' % (get_acc(pred_lr, y_train_CIFAR)))"
   ]
  },
  {
   "cell_type": "markdown",
   "metadata": {},
   "source": [
    "### Validate Logistic Classifer"
   ]
  },
  {
   "cell_type": "code",
   "execution_count": 126,
   "metadata": {},
   "outputs": [
    {
     "name": "stderr",
     "output_type": "stream",
     "text": [
      "/Users/furkanoruc/opt/anaconda3/envs/introDL/lib/python3.7/site-packages/ipykernel_launcher.py:21: RuntimeWarning: overflow encountered in exp\n",
      "/Users/furkanoruc/opt/anaconda3/envs/introDL/lib/python3.7/site-packages/ipykernel_launcher.py:21: RuntimeWarning: invalid value encountered in true_divide\n"
     ]
    },
    {
     "name": "stdout",
     "output_type": "stream",
     "text": [
      "The validation accuracy is given by: 16.040000\n"
     ]
    }
   ],
   "source": [
    "pred_lr = lr.predict(X_val_CIFAR)\n",
    "print('The validation accuracy is given by: %f' % (get_acc(pred_lr, y_val_CIFAR)))"
   ]
  },
  {
   "cell_type": "markdown",
   "metadata": {},
   "source": [
    "### Test Logistic Classifier"
   ]
  },
  {
   "cell_type": "code",
   "execution_count": 127,
   "metadata": {},
   "outputs": [
    {
     "name": "stderr",
     "output_type": "stream",
     "text": [
      "/Users/furkanoruc/opt/anaconda3/envs/introDL/lib/python3.7/site-packages/ipykernel_launcher.py:21: RuntimeWarning: overflow encountered in exp\n",
      "/Users/furkanoruc/opt/anaconda3/envs/introDL/lib/python3.7/site-packages/ipykernel_launcher.py:21: RuntimeWarning: invalid value encountered in true_divide\n"
     ]
    },
    {
     "name": "stdout",
     "output_type": "stream",
     "text": [
      "The testing accuracy is given by: 15.680000\n"
     ]
    }
   ],
   "source": [
    "pred_lr = lr.predict(X_test_CIFAR)\n",
    "print('The testing accuracy is given by: %f' % (get_acc(pred_lr, y_test_CIFAR)))\n",
    "output_submission_csv('output/M_Furkan_Oruc_Logistic_submission_CIFAR.csv', lr.predict(X_test_CIFAR))"
   ]
  },
  {
   "cell_type": "markdown",
   "metadata": {},
   "source": [
    "### Problem #8"
   ]
  },
  {
   "cell_type": "code",
   "execution_count": 62,
   "metadata": {},
   "outputs": [],
   "source": [
    "y = np.arange(start=-20, stop=20.1, step=0.1).reshape((401, 1))"
   ]
  },
  {
   "cell_type": "code",
   "execution_count": 63,
   "metadata": {},
   "outputs": [
    {
     "data": {
      "text/plain": [
       "array([[ 1.,  2.,  3.,  4.,  5.,  6.,  7.,  8.,  9., 10., 11., 12., 13.,\n",
       "        14., 15., 16., 17., 18., 19., 20., 21., 22., 23., 24., 25., 26.,\n",
       "        27., 28., 29., 30., 31., 32., 33., 34., 35., 36., 37., 38., 39.,\n",
       "        40., 41., 42., 43., 44., 45., 46., 47., 48., 49., 50.]])"
      ]
     },
     "execution_count": 63,
     "metadata": {},
     "output_type": "execute_result"
    }
   ],
   "source": [
    "j = np.arange(start=1, stop=51, step=1.0).reshape((1, 50))\n",
    "n"
   ]
  },
  {
   "cell_type": "code",
   "execution_count": 67,
   "metadata": {},
   "outputs": [
    {
     "name": "stdout",
     "output_type": "stream",
     "text": [
      "[[-2.00000000e+01  4.00000000e+02 -8.00000000e+03 ...  2.81474977e+62\n",
      "  -5.62949953e+63  1.12589991e+65]\n",
      " [-1.99000000e+01  3.96010000e+02 -7.88059900e+03 ...  2.21282805e+62\n",
      "  -4.40352782e+63  8.76302035e+64]\n",
      " [-1.98000000e+01  3.92040000e+02 -7.76239200e+03 ...  1.73751728e+62\n",
      "  -3.44028422e+63  6.81176275e+64]\n",
      " ...\n",
      " [ 1.98000000e+01  3.92040000e+02  7.76239200e+03 ...  1.73751728e+62\n",
      "   3.44028422e+63  6.81176275e+64]\n",
      " [ 1.99000000e+01  3.96010000e+02  7.88059900e+03 ...  2.21282805e+62\n",
      "   4.40352782e+63  8.76302035e+64]\n",
      " [ 2.00000000e+01  4.00000000e+02  8.00000000e+03 ...  2.81474977e+62\n",
      "   5.62949953e+63  1.12589991e+65]]\n",
      "(401, 50)\n"
     ]
    }
   ],
   "source": [
    "result = y**j\n",
    "print(result)\n",
    "print(result.shape)"
   ]
  },
  {
   "cell_type": "code",
   "execution_count": null,
   "metadata": {},
   "outputs": [],
   "source": []
  }
 ],
 "metadata": {
  "kernelspec": {
   "display_name": "Python 3 (ipykernel)",
   "language": "python",
   "name": "python3"
  },
  "language_info": {
   "codemirror_mode": {
    "name": "ipython",
    "version": 3
   },
   "file_extension": ".py",
   "mimetype": "text/x-python",
   "name": "python",
   "nbconvert_exporter": "python",
   "pygments_lexer": "ipython3",
   "version": "3.7.11"
  }
 },
 "nbformat": 4,
 "nbformat_minor": 4
}
