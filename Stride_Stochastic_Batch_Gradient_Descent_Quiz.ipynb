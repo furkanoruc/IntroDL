{
  "nbformat": 4,
  "nbformat_minor": 0,
  "metadata": {
    "colab": {
      "name": "Stride-Stochastic-Batch-Gradient-Descent-Quiz.ipynb",
      "provenance": [],
      "authorship_tag": "ABX9TyOHLnYr9UGcAQZMgk+wWr+D",
      "include_colab_link": true
    },
    "kernelspec": {
      "name": "python3",
      "display_name": "Python 3"
    },
    "language_info": {
      "name": "python"
    }
  },
  "cells": [
    {
      "cell_type": "markdown",
      "metadata": {
        "id": "view-in-github",
        "colab_type": "text"
      },
      "source": [
        "<a href=\"https://colab.research.google.com/github/furkanoruc/IntroDL/blob/main/Stride_Stochastic_Batch_Gradient_Descent_Quiz.ipynb\" target=\"_parent\"><img src=\"https://colab.research.google.com/assets/colab-badge.svg\" alt=\"Open In Colab\"/></a>"
      ]
    },
    {
      "cell_type": "code",
      "execution_count": 1,
      "metadata": {
        "id": "FFC3kKwz-rua"
      },
      "outputs": [],
      "source": [
        "import numpy as np"
      ]
    },
    {
      "cell_type": "markdown",
      "source": [
        "#1"
      ],
      "metadata": {
        "id": "ZZWGCYAZEKMP"
      }
    },
    {
      "cell_type": "code",
      "source": [
        "a = np.array([[0,1,2,3,4,5,6], [0,1,2,3,4,5,6], [0,1,2,3,4,5,6],\n",
        "              [0,1,2,3,4,5,6], [0,1,2,3,4,5,6], [0,1,2,3,4,5,6],\n",
        "              [0,1,2,3,4,5,6]])\n",
        "print(a)"
      ],
      "metadata": {
        "colab": {
          "base_uri": "https://localhost:8080/"
        },
        "id": "BFAQpQ-O-yh7",
        "outputId": "00da2fea-fd3d-4dbc-c408-91bbea323685"
      },
      "execution_count": 2,
      "outputs": [
        {
          "output_type": "stream",
          "name": "stdout",
          "text": [
            "[[0 1 2 3 4 5 6]\n",
            " [0 1 2 3 4 5 6]\n",
            " [0 1 2 3 4 5 6]\n",
            " [0 1 2 3 4 5 6]\n",
            " [0 1 2 3 4 5 6]\n",
            " [0 1 2 3 4 5 6]\n",
            " [0 1 2 3 4 5 6]]\n"
          ]
        }
      ]
    },
    {
      "cell_type": "markdown",
      "source": [
        "# 2"
      ],
      "metadata": {
        "id": "BsY2MhERENQJ"
      }
    },
    {
      "cell_type": "code",
      "source": [
        "arr = np.array([0,1,2,3,4,5,6,7,8,9,10,11], dtype=np.int32)\n",
        "\n",
        "print(arr)"
      ],
      "metadata": {
        "colab": {
          "base_uri": "https://localhost:8080/"
        },
        "id": "_dB8NvbqAKEE",
        "outputId": "108093ec-2951-46f9-dbe1-4a8b46e244b2"
      },
      "execution_count": 67,
      "outputs": [
        {
          "output_type": "stream",
          "name": "stdout",
          "text": [
            "[ 0  1  2  3  4  5  6  7  8  9 10 11]\n"
          ]
        }
      ]
    },
    {
      "cell_type": "code",
      "source": [
        "arr.strides"
      ],
      "metadata": {
        "colab": {
          "base_uri": "https://localhost:8080/"
        },
        "id": "tyntluzMH_nS",
        "outputId": "0eeea5c3-6477-4cc2-ca08-37d19c65b62a"
      },
      "execution_count": 68,
      "outputs": [
        {
          "output_type": "execute_result",
          "data": {
            "text/plain": [
              "(4,)"
            ]
          },
          "metadata": {},
          "execution_count": 68
        }
      ]
    },
    {
      "cell_type": "code",
      "source": [
        "arr_strided = np.lib.stride_tricks.as_strided(arr, shape = (len(arr)-3,4), strides = (4,4))\n",
        "print(arr_strided)"
      ],
      "metadata": {
        "colab": {
          "base_uri": "https://localhost:8080/"
        },
        "id": "9h3yp-UaFxOJ",
        "outputId": "70251d31-deb5-4bf3-a45b-5f0ee689e1e5"
      },
      "execution_count": 95,
      "outputs": [
        {
          "output_type": "stream",
          "name": "stdout",
          "text": [
            "[[ 0  1  2  3]\n",
            " [ 1  2  3  4]\n",
            " [ 2  3  4  5]\n",
            " [ 3  4  5  6]\n",
            " [ 4  5  6  7]\n",
            " [ 5  6  7  8]\n",
            " [ 6  7  8  9]\n",
            " [ 7  8  9 10]\n",
            " [ 8  9 10 11]]\n"
          ]
        }
      ]
    },
    {
      "cell_type": "markdown",
      "source": [
        "# 3"
      ],
      "metadata": {
        "id": "3ww3q3BoQG_w"
      }
    },
    {
      "cell_type": "markdown",
      "source": [
        "To perform updates, batch gradient descent considers the entire sample set, while stochastic gradient descent conducts update for each distinct data point. In stochastic gradient descent, we approach the approximated gradient descent rather than the exact. Finding exact requires much more time since each update of the gradient descent requires going over the entire dataset (batch). Mini Batch gradient descent stands as the mid point methodology, where positive and negative aspects of both approaches are adopted."
      ],
      "metadata": {
        "id": "BLEOTN7pR-6u"
      }
    },
    {
      "cell_type": "code",
      "source": [
        ""
      ],
      "metadata": {
        "id": "8acfkzMiCOkR"
      },
      "execution_count": 92,
      "outputs": []
    },
    {
      "cell_type": "code",
      "source": [
        ""
      ],
      "metadata": {
        "id": "pUXM44AXDFd_"
      },
      "execution_count": 19,
      "outputs": []
    },
    {
      "cell_type": "code",
      "source": [
        ""
      ],
      "metadata": {
        "id": "UiYYM6hfC3I0"
      },
      "execution_count": 19,
      "outputs": []
    }
  ]
}